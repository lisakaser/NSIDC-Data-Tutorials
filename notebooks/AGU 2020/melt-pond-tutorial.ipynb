{
 "cells": [
  {
   "cell_type": "markdown",
   "metadata": {},
   "source": [
    "# Sea ice and ocean data access and analysis \n",
    "\n",
    "Accessing coincident sea ice and ocean data to study melt pond characteristics.\n",
    "\n",
    "Study area: Using OA melt pond annotation as an example: https://openaltimetry.org/data/icesat2/?start_date=2019-06-22&annoId=180\n",
    "\n",
    "- Temporal coverage: 22 June 2019\n",
    "- Bounding area: -62.8,81.7,-56.4,83\n",
    "\n",
    "Data products:\n",
    "- Sea Surface Temperature: \n",
    "    * MODIS (Terra) SST: MODIS_T-JPL-L2P-v2014.0\n",
    "    * SMAP SSS L3 expected in cloud Ops starting with 20.4.2.\n",
    "    * GRACE-FO in cloud Ops now.\n",
    "- Sea Ice Temperature?\n",
    "- Height data?\n"
   ]
  },
  {
   "cell_type": "markdown",
   "metadata": {},
   "source": [
    "## Import packages"
   ]
  },
  {
   "cell_type": "code",
   "execution_count": 11,
   "metadata": {},
   "outputs": [],
   "source": [
    "from gql import gql, Client\n",
    "from gql.transport.requests import RequestsHTTPTransport\n",
    "from pprint import pprint\n",
    "import getpass\n",
    "import requests\n",
    "import json\n",
    "import random\n",
    "from statistics import mean\n"
   ]
  },
  {
   "cell_type": "markdown",
   "metadata": {},
   "source": [
    "## Data Search\n",
    "\n",
    "Use ipyleaflet for visual CMR data search?"
   ]
  },
  {
   "cell_type": "markdown",
   "metadata": {},
   "source": [
    "### Configure a CMR GraphQL client\n",
    "Using qgl we can communicate with the CMR GraphQL endpoint in a standards-based way, allowing for schema introspection. gql isn't the only python GraphQL client library out there. Other libraries might provide features you value, like gql-next's static type generation functionality."
   ]
  },
  {
   "cell_type": "code",
   "execution_count": 5,
   "metadata": {},
   "outputs": [
    {
     "name": "stdout",
     "output_type": "stream",
     "text": [
      "* ancillaryKeywords: Allows authors to provide words or phrases outside of the controlled Science Keyword vocabulary, to further describe the collection.\n",
      "* dataCenters: Information about the data centers responsible for this collection and its metadata.\n",
      "* quality: Free text description of the quality of the collection data.\n",
      "* datasetId: True if any of its associated services support spatial subsetting.\n",
      "* onlineAccessFlag: True if the data is available online.\n"
     ]
    }
   ],
   "source": [
    "CMR_GRAPHQL_URL = 'https://graphql.earthdata.nasa.gov/api'\n",
    "sample_transport=RequestsHTTPTransport(\n",
    "    url=CMR_GRAPHQL_URL,\n",
    "    retries=3,            # Automatically retry, don't put it on the user!\n",
    ")\n",
    "\n",
    "client = Client(\n",
    "    transport=sample_transport,\n",
    "    fetch_schema_from_transport=True,  # Get the schema as part of the client object\n",
    ")\n",
    "\n",
    "collection_schema = client.schema.get_type('Collection')\n",
    "\n",
    "# Show info about 5 random fields\n",
    "sample_fields = random.sample(list(collection_schema.fields.items()), 5)\n",
    "for fieldname, field in sample_fields:\n",
    "    print(f'* {fieldname}: {field.description}')"
   ]
  },
  {
   "cell_type": "markdown",
   "metadata": {},
   "source": [
    "### Explore data availability using the Common Metadata Repository\n",
    "The Common Metadata Repository (CMR) is a high-performance, high-quality, continuously evolving metadata system that catalogs Earth Science data and associated service metadata records. These metadata records are registered, modified, discovered, and accessed through programmatic interfaces leveraging standard protocols and APIs. Note that not all NSIDC data can be searched at the file level using CMR, particularly those outside of the NASA DAAC program.\n",
    "\n",
    "General CMR API documentation: https://cmr.earthdata.nasa.gov/search/site/docs/search/api.html\n",
    "\n",
    "GraphQL endpoint documentation and interactive playground: https://graphql.earthdata.nasa.gov/api\n",
    "\n",
    "### Select data set and determine version number\n",
    "Data sets are selected by data set IDs (e.g. ATL07). In the CMR API documentation, a data set ids is referred to as a \"short name\". These short names are located at the top of each NSIDC data set landing page in gray above the full title. We are using the Python Requests package to access the CMR. Data are then converted to JSON format; a language independant human-readable open-standard file format. More than one version can exist for a given data set:"
   ]
  },
  {
   "cell_type": "code",
   "execution_count": 6,
   "metadata": {},
   "outputs": [
    {
     "name": "stdout",
     "output_type": "stream",
     "text": [
      "{'collections': {'items': [{'conceptId': 'C1219248592-LANCEMODIS',\n",
      "                            'datasetId': 'MODIS/Terra Near Real Time (NRT) Sea '\n",
      "                                         'Ice Extent 5-Min L2 Swath 1km',\n",
      "                            'shortName': 'MOD29',\n",
      "                            'versionId': '6NRT'},\n",
      "                           {'conceptId': 'C61468238-NSIDC_ECS',\n",
      "                            'datasetId': 'MODIS/Terra Sea Ice Extent 5-Min L2 '\n",
      "                                         'Swath 1km V005',\n",
      "                            'shortName': 'MOD29',\n",
      "                            'versionId': '5'},\n",
      "                           {'conceptId': 'C1000001160-NSIDC_ECS',\n",
      "                            'datasetId': 'MODIS/Terra Sea Ice Extent 5-Min L2 '\n",
      "                                         'Swath 1km V006',\n",
      "                            'shortName': 'MOD29',\n",
      "                            'versionId': '6'}]}}\n"
     ]
    }
   ],
   "source": [
    "query = gql('''\n",
    "query { \n",
    "  collections(shortName: \"MOD29\") {\n",
    "    items { \n",
    "      shortName\n",
    "      datasetId\n",
    "      conceptId\n",
    "      versionId\n",
    "    }\n",
    "  }\n",
    "}\n",
    "''')\n",
    "\n",
    "# As a user, I don't need to know about \"feed\" or \"entry\", just the fields I'm interested in!\n",
    "response = client.execute(query)\n",
    "pprint(response)"
   ]
  },
  {
   "cell_type": "markdown",
   "metadata": {},
   "source": [
    "We will specify the most recent version for our remaining data set queries."
   ]
  },
  {
   "cell_type": "markdown",
   "metadata": {},
   "source": [
    "### Select time and area of interest\n",
    "We will create a simple dictionary with our short name, version, time, and area of interest. We'll continue to add to this dictionary as we discover more information about our data set. The bounding box coordinates cover our region of interest over xxx and the temporal range covers xxx"
   ]
  },
  {
   "cell_type": "code",
   "execution_count": 7,
   "metadata": {},
   "outputs": [],
   "source": [
    "# Bounding Box spatial parameter in decimal degree 'W,S,E,N' format.\n",
    "bounding_box = '-62.8,81.7,-56.4,83'\n",
    "# Each date in yyyy-MM-ddTHH:mm:ssZ format; date range in start,end format\n",
    "temporal = '2019-06-22T00:00:00Z,2019-06-22T23:59:59Z'"
   ]
  },
  {
   "cell_type": "markdown",
   "metadata": {},
   "source": [
    "Start our data info dictionary with our data set, version, and area and time of interest.\n",
    "\n",
    "***Note that some version IDs include 3 digits and others include only 1 digit. Make sure to enter this value exactly as reported above.***"
   ]
  },
  {
   "cell_type": "code",
   "execution_count": 8,
   "metadata": {},
   "outputs": [],
   "source": [
    "dataset_info = {'short_name': 'MOD29', \n",
    "             'version': '6',\n",
    "             'bounding_box': bounding_box, \n",
    "             'temporal': temporal }"
   ]
  },
  {
   "cell_type": "markdown",
   "metadata": {},
   "source": [
    "### Determine how many files exist over this time and area of interest, as well as the average size and total volume of those granules\n",
    "We will use the gql library once more, this time to query the CMR granule API. We will look at the results and print the number of granules, average size, and total volume of those granules.\n",
    "\n",
    "Finally, we update the data_dict with the granule count. TODO: Is this necessary?"
   ]
  },
  {
   "cell_type": "code",
   "execution_count": 15,
   "metadata": {},
   "outputs": [
    {
     "name": "stdout",
     "output_type": "stream",
     "text": [
      "Found 10 granules\n",
      "Average size: 1.84\n",
      "Total size: 18.37\n"
     ]
    }
   ],
   "source": [
    "# TODO: Get rid of data_dict entirely? or re-use it here? Currently hardcoding bbox, temporal.\n",
    "# NOTE: GraphQL endpoint currently supports selecting granules by conceptId, not short_name, versionId.\n",
    "query = gql('''\n",
    "query {\n",
    "  granules(conceptId: \"C1000001160-NSIDC_ECS\"\n",
    "           boundingBox: \"-62.8,81.7,-56.4,83\"\n",
    "           temporal: \"2019-06-22T00:00:00Z,2019-06-22T23:59:59Z\"\n",
    "           limit: 100) {\n",
    "    count\n",
    "    items { granuleSize }\n",
    "           \n",
    "  }\n",
    "}\n",
    "''')\n",
    "response = client.execute(query)\n",
    "\n",
    "# Now that it's a so easy to get the info we need, I think granule_info can go away.\n",
    "granule_sizes = [float(i['granuleSize']) for i in response['granules']['items']][:]\n",
    "\n",
    "print(f\"Found {response['granules']['count']} granules\")\n",
    "print(f\"Average size: {mean(granule_sizes):.2f}\")\n",
    "print(f\"Total size: {sum(granule_sizes):.2f}\")\n",
    "\n",
    "dataset_info['gran_num'] = int(response['granules']['count'])"
   ]
  },
  {
   "cell_type": "markdown",
   "metadata": {},
   "source": [
    "Note that subsetting, reformatting, or reprojecting can alter the size of the granules if those services are applied to your request.\n",
    "\n"
   ]
  },
  {
   "cell_type": "markdown",
   "metadata": {},
   "source": [
    "## Data Access\n",
    "\n",
    "Depending on the NSIDC data set, we could utilize CMR UMM-S associations to demonstrate ESI subsetting service availability. Or for \"native\" data access, we could also access using Harmony (all CMR data can be accessed using Harmony no-proc service), or just through CMR data access URLs. \n",
    "\n",
    "The PO DAAC data can be subsetted via Harmony subsetting service."
   ]
  },
  {
   "cell_type": "markdown",
   "metadata": {},
   "source": [
    "## Data Comparison\n",
    "\n",
    "- Any reprojection or resampling needed? \n",
    "- Simple plotting of data "
   ]
  },
  {
   "cell_type": "code",
   "execution_count": null,
   "metadata": {},
   "outputs": [],
   "source": []
  }
 ],
 "metadata": {
  "kernelspec": {
   "display_name": "Python 3",
   "language": "python",
   "name": "python3"
  },
  "language_info": {
   "codemirror_mode": {
    "name": "ipython",
    "version": 3
   },
   "file_extension": ".py",
   "mimetype": "text/x-python",
   "name": "python",
   "nbconvert_exporter": "python",
   "pygments_lexer": "ipython3",
   "version": "3.7.8"
  }
 },
 "nbformat": 4,
 "nbformat_minor": 4
}
